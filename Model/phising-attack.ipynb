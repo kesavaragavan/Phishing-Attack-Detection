{
    "cells": [
        {
            "cell_type": "markdown",
            "source": [
                "# Phishing attack detection using DTC"
            ],
            "metadata": {}
        },
        {
            "cell_type": "markdown",
            "source": [
                "## Import Libraries and Packages"
            ],
            "metadata": {}
        },
        {
            "cell_type": "code",
            "execution_count": 1,
            "source": [
                "from scipy.io import arff\r\n",
                "import numpy as np\r\n",
                "import pandas as pd\r\n",
                "import seaborn as sns\r\n",
                "import matplotlib.pyplot as plt\r\n",
                "from sklearn.model_selection import train_test_split\r\n",
                "from sklearn.feature_selection import chi2,SelectKBest,mutual_info_classif\r\n",
                "from sklearn.tree import DecisionTreeClassifier as dtc\r\n",
                "from sklearn.preprocessing import OrdinalEncoder,LabelEncoder\r\n",
                "from sklearn.metrics import classification_report"
            ],
            "outputs": [],
            "metadata": {}
        },
        {
            "cell_type": "markdown",
            "source": [
                "## Loading Dataset \r\n",
                "Source Dataset(td.arff) is downloaded from UCI Repository."
            ],
            "metadata": {}
        },
        {
            "cell_type": "code",
            "execution_count": 2,
            "source": [
                "data,meta = arff.loadarff(\"td.arff\")\r\n",
                "#converstion \r\n",
                "df = pd.DataFrame(data.flatten())"
            ],
            "outputs": [],
            "metadata": {}
        },
        {
            "cell_type": "markdown",
            "source": [
                "## Features"
            ],
            "metadata": {}
        },
        {
            "cell_type": "code",
            "execution_count": 3,
            "source": [
                "\r\n",
                "print(meta)"
            ],
            "outputs": [
                {
                    "output_type": "stream",
                    "name": "stdout",
                    "text": [
                        "Dataset: phishing\n",
                        "\thaving_IP_Address's type is nominal, range is ('-1', '1')\n",
                        "\tURL_Length's type is nominal, range is ('1', '0', '-1')\n",
                        "\tShortining_Service's type is nominal, range is ('1', '-1')\n",
                        "\thaving_At_Symbol's type is nominal, range is ('1', '-1')\n",
                        "\tdouble_slash_redirecting's type is nominal, range is ('-1', '1')\n",
                        "\tPrefix_Suffix's type is nominal, range is ('-1', '1')\n",
                        "\thaving_Sub_Domain's type is nominal, range is ('-1', '0', '1')\n",
                        "\tSSLfinal_State's type is nominal, range is ('-1', '1', '0')\n",
                        "\tDomain_registeration_length's type is nominal, range is ('-1', '1')\n",
                        "\tFavicon's type is nominal, range is ('1', '-1')\n",
                        "\tport's type is nominal, range is ('1', '-1')\n",
                        "\tHTTPS_token's type is nominal, range is ('-1', '1')\n",
                        "\tRequest_URL's type is nominal, range is ('1', '-1')\n",
                        "\tURL_of_Anchor's type is nominal, range is ('-1', '0', '1')\n",
                        "\tLinks_in_tags's type is nominal, range is ('1', '-1', '0')\n",
                        "\tSFH's type is nominal, range is ('-1', '1', '0')\n",
                        "\tSubmitting_to_email's type is nominal, range is ('-1', '1')\n",
                        "\tAbnormal_URL's type is nominal, range is ('-1', '1')\n",
                        "\tRedirect's type is nominal, range is ('0', '1')\n",
                        "\ton_mouseover's type is nominal, range is ('1', '-1')\n",
                        "\tRightClick's type is nominal, range is ('1', '-1')\n",
                        "\tpopUpWidnow's type is nominal, range is ('1', '-1')\n",
                        "\tIframe's type is nominal, range is ('1', '-1')\n",
                        "\tage_of_domain's type is nominal, range is ('-1', '1')\n",
                        "\tDNSRecord's type is nominal, range is ('-1', '1')\n",
                        "\tweb_traffic's type is nominal, range is ('-1', '0', '1')\n",
                        "\tPage_Rank's type is nominal, range is ('-1', '1')\n",
                        "\tGoogle_Index's type is nominal, range is ('1', '-1')\n",
                        "\tLinks_pointing_to_page's type is nominal, range is ('1', '0', '-1')\n",
                        "\tStatistical_report's type is nominal, range is ('-1', '1')\n",
                        "\tResult's type is nominal, range is ('-1', '1')\n",
                        "\n"
                    ]
                }
            ],
            "metadata": {}
        },
        {
            "cell_type": "code",
            "execution_count": 4,
            "source": [
                "\r\n",
                "df.info()"
            ],
            "outputs": [
                {
                    "output_type": "stream",
                    "name": "stdout",
                    "text": [
                        "<class 'pandas.core.frame.DataFrame'>\n",
                        "RangeIndex: 11055 entries, 0 to 11054\n",
                        "Data columns (total 31 columns):\n",
                        " #   Column                       Non-Null Count  Dtype \n",
                        "---  ------                       --------------  ----- \n",
                        " 0   having_IP_Address            11055 non-null  object\n",
                        " 1   URL_Length                   11055 non-null  object\n",
                        " 2   Shortining_Service           11055 non-null  object\n",
                        " 3   having_At_Symbol             11055 non-null  object\n",
                        " 4   double_slash_redirecting     11055 non-null  object\n",
                        " 5   Prefix_Suffix                11055 non-null  object\n",
                        " 6   having_Sub_Domain            11055 non-null  object\n",
                        " 7   SSLfinal_State               11055 non-null  object\n",
                        " 8   Domain_registeration_length  11055 non-null  object\n",
                        " 9   Favicon                      11055 non-null  object\n",
                        " 10  port                         11055 non-null  object\n",
                        " 11  HTTPS_token                  11055 non-null  object\n",
                        " 12  Request_URL                  11055 non-null  object\n",
                        " 13  URL_of_Anchor                11055 non-null  object\n",
                        " 14  Links_in_tags                11055 non-null  object\n",
                        " 15  SFH                          11055 non-null  object\n",
                        " 16  Submitting_to_email          11055 non-null  object\n",
                        " 17  Abnormal_URL                 11055 non-null  object\n",
                        " 18  Redirect                     11055 non-null  object\n",
                        " 19  on_mouseover                 11055 non-null  object\n",
                        " 20  RightClick                   11055 non-null  object\n",
                        " 21  popUpWidnow                  11055 non-null  object\n",
                        " 22  Iframe                       11055 non-null  object\n",
                        " 23  age_of_domain                11055 non-null  object\n",
                        " 24  DNSRecord                    11055 non-null  object\n",
                        " 25  web_traffic                  11055 non-null  object\n",
                        " 26  Page_Rank                    11055 non-null  object\n",
                        " 27  Google_Index                 11055 non-null  object\n",
                        " 28  Links_pointing_to_page       11055 non-null  object\n",
                        " 29  Statistical_report           11055 non-null  object\n",
                        " 30  Result                       11055 non-null  object\n",
                        "dtypes: object(31)\n",
                        "memory usage: 2.6+ MB\n"
                    ]
                }
            ],
            "metadata": {}
        },
        {
            "cell_type": "code",
            "execution_count": 5,
            "source": [
                "\r\n",
                "df.head()"
            ],
            "outputs": [
                {
                    "output_type": "execute_result",
                    "data": {
                        "text/plain": [
                            "  having_IP_Address URL_Length Shortining_Service having_At_Symbol  \\\n",
                            "0             b'-1'       b'1'               b'1'             b'1'   \n",
                            "1              b'1'       b'1'               b'1'             b'1'   \n",
                            "2              b'1'       b'0'               b'1'             b'1'   \n",
                            "3              b'1'       b'0'               b'1'             b'1'   \n",
                            "4              b'1'       b'0'              b'-1'             b'1'   \n",
                            "\n",
                            "  double_slash_redirecting Prefix_Suffix having_Sub_Domain SSLfinal_State  \\\n",
                            "0                    b'-1'         b'-1'             b'-1'          b'-1'   \n",
                            "1                     b'1'         b'-1'              b'0'           b'1'   \n",
                            "2                     b'1'         b'-1'             b'-1'          b'-1'   \n",
                            "3                     b'1'         b'-1'             b'-1'          b'-1'   \n",
                            "4                     b'1'         b'-1'              b'1'           b'1'   \n",
                            "\n",
                            "  Domain_registeration_length Favicon  ... popUpWidnow Iframe age_of_domain  \\\n",
                            "0                       b'-1'    b'1'  ...        b'1'   b'1'         b'-1'   \n",
                            "1                       b'-1'    b'1'  ...        b'1'   b'1'         b'-1'   \n",
                            "2                       b'-1'    b'1'  ...        b'1'   b'1'          b'1'   \n",
                            "3                        b'1'    b'1'  ...        b'1'   b'1'         b'-1'   \n",
                            "4                       b'-1'    b'1'  ...       b'-1'   b'1'         b'-1'   \n",
                            "\n",
                            "  DNSRecord web_traffic Page_Rank Google_Index Links_pointing_to_page  \\\n",
                            "0     b'-1'       b'-1'     b'-1'         b'1'                   b'1'   \n",
                            "1     b'-1'        b'0'     b'-1'         b'1'                   b'1'   \n",
                            "2     b'-1'        b'1'     b'-1'         b'1'                   b'0'   \n",
                            "3     b'-1'        b'1'     b'-1'         b'1'                  b'-1'   \n",
                            "4     b'-1'        b'0'     b'-1'         b'1'                   b'1'   \n",
                            "\n",
                            "  Statistical_report Result  \n",
                            "0              b'-1'  b'-1'  \n",
                            "1               b'1'  b'-1'  \n",
                            "2              b'-1'  b'-1'  \n",
                            "3               b'1'  b'-1'  \n",
                            "4               b'1'   b'1'  \n",
                            "\n",
                            "[5 rows x 31 columns]"
                        ],
                        "text/html": [
                            "<div>\n",
                            "<style scoped>\n",
                            "    .dataframe tbody tr th:only-of-type {\n",
                            "        vertical-align: middle;\n",
                            "    }\n",
                            "\n",
                            "    .dataframe tbody tr th {\n",
                            "        vertical-align: top;\n",
                            "    }\n",
                            "\n",
                            "    .dataframe thead th {\n",
                            "        text-align: right;\n",
                            "    }\n",
                            "</style>\n",
                            "<table border=\"1\" class=\"dataframe\">\n",
                            "  <thead>\n",
                            "    <tr style=\"text-align: right;\">\n",
                            "      <th></th>\n",
                            "      <th>having_IP_Address</th>\n",
                            "      <th>URL_Length</th>\n",
                            "      <th>Shortining_Service</th>\n",
                            "      <th>having_At_Symbol</th>\n",
                            "      <th>double_slash_redirecting</th>\n",
                            "      <th>Prefix_Suffix</th>\n",
                            "      <th>having_Sub_Domain</th>\n",
                            "      <th>SSLfinal_State</th>\n",
                            "      <th>Domain_registeration_length</th>\n",
                            "      <th>Favicon</th>\n",
                            "      <th>...</th>\n",
                            "      <th>popUpWidnow</th>\n",
                            "      <th>Iframe</th>\n",
                            "      <th>age_of_domain</th>\n",
                            "      <th>DNSRecord</th>\n",
                            "      <th>web_traffic</th>\n",
                            "      <th>Page_Rank</th>\n",
                            "      <th>Google_Index</th>\n",
                            "      <th>Links_pointing_to_page</th>\n",
                            "      <th>Statistical_report</th>\n",
                            "      <th>Result</th>\n",
                            "    </tr>\n",
                            "  </thead>\n",
                            "  <tbody>\n",
                            "    <tr>\n",
                            "      <th>0</th>\n",
                            "      <td>b'-1'</td>\n",
                            "      <td>b'1'</td>\n",
                            "      <td>b'1'</td>\n",
                            "      <td>b'1'</td>\n",
                            "      <td>b'-1'</td>\n",
                            "      <td>b'-1'</td>\n",
                            "      <td>b'-1'</td>\n",
                            "      <td>b'-1'</td>\n",
                            "      <td>b'-1'</td>\n",
                            "      <td>b'1'</td>\n",
                            "      <td>...</td>\n",
                            "      <td>b'1'</td>\n",
                            "      <td>b'1'</td>\n",
                            "      <td>b'-1'</td>\n",
                            "      <td>b'-1'</td>\n",
                            "      <td>b'-1'</td>\n",
                            "      <td>b'-1'</td>\n",
                            "      <td>b'1'</td>\n",
                            "      <td>b'1'</td>\n",
                            "      <td>b'-1'</td>\n",
                            "      <td>b'-1'</td>\n",
                            "    </tr>\n",
                            "    <tr>\n",
                            "      <th>1</th>\n",
                            "      <td>b'1'</td>\n",
                            "      <td>b'1'</td>\n",
                            "      <td>b'1'</td>\n",
                            "      <td>b'1'</td>\n",
                            "      <td>b'1'</td>\n",
                            "      <td>b'-1'</td>\n",
                            "      <td>b'0'</td>\n",
                            "      <td>b'1'</td>\n",
                            "      <td>b'-1'</td>\n",
                            "      <td>b'1'</td>\n",
                            "      <td>...</td>\n",
                            "      <td>b'1'</td>\n",
                            "      <td>b'1'</td>\n",
                            "      <td>b'-1'</td>\n",
                            "      <td>b'-1'</td>\n",
                            "      <td>b'0'</td>\n",
                            "      <td>b'-1'</td>\n",
                            "      <td>b'1'</td>\n",
                            "      <td>b'1'</td>\n",
                            "      <td>b'1'</td>\n",
                            "      <td>b'-1'</td>\n",
                            "    </tr>\n",
                            "    <tr>\n",
                            "      <th>2</th>\n",
                            "      <td>b'1'</td>\n",
                            "      <td>b'0'</td>\n",
                            "      <td>b'1'</td>\n",
                            "      <td>b'1'</td>\n",
                            "      <td>b'1'</td>\n",
                            "      <td>b'-1'</td>\n",
                            "      <td>b'-1'</td>\n",
                            "      <td>b'-1'</td>\n",
                            "      <td>b'-1'</td>\n",
                            "      <td>b'1'</td>\n",
                            "      <td>...</td>\n",
                            "      <td>b'1'</td>\n",
                            "      <td>b'1'</td>\n",
                            "      <td>b'1'</td>\n",
                            "      <td>b'-1'</td>\n",
                            "      <td>b'1'</td>\n",
                            "      <td>b'-1'</td>\n",
                            "      <td>b'1'</td>\n",
                            "      <td>b'0'</td>\n",
                            "      <td>b'-1'</td>\n",
                            "      <td>b'-1'</td>\n",
                            "    </tr>\n",
                            "    <tr>\n",
                            "      <th>3</th>\n",
                            "      <td>b'1'</td>\n",
                            "      <td>b'0'</td>\n",
                            "      <td>b'1'</td>\n",
                            "      <td>b'1'</td>\n",
                            "      <td>b'1'</td>\n",
                            "      <td>b'-1'</td>\n",
                            "      <td>b'-1'</td>\n",
                            "      <td>b'-1'</td>\n",
                            "      <td>b'1'</td>\n",
                            "      <td>b'1'</td>\n",
                            "      <td>...</td>\n",
                            "      <td>b'1'</td>\n",
                            "      <td>b'1'</td>\n",
                            "      <td>b'-1'</td>\n",
                            "      <td>b'-1'</td>\n",
                            "      <td>b'1'</td>\n",
                            "      <td>b'-1'</td>\n",
                            "      <td>b'1'</td>\n",
                            "      <td>b'-1'</td>\n",
                            "      <td>b'1'</td>\n",
                            "      <td>b'-1'</td>\n",
                            "    </tr>\n",
                            "    <tr>\n",
                            "      <th>4</th>\n",
                            "      <td>b'1'</td>\n",
                            "      <td>b'0'</td>\n",
                            "      <td>b'-1'</td>\n",
                            "      <td>b'1'</td>\n",
                            "      <td>b'1'</td>\n",
                            "      <td>b'-1'</td>\n",
                            "      <td>b'1'</td>\n",
                            "      <td>b'1'</td>\n",
                            "      <td>b'-1'</td>\n",
                            "      <td>b'1'</td>\n",
                            "      <td>...</td>\n",
                            "      <td>b'-1'</td>\n",
                            "      <td>b'1'</td>\n",
                            "      <td>b'-1'</td>\n",
                            "      <td>b'-1'</td>\n",
                            "      <td>b'0'</td>\n",
                            "      <td>b'-1'</td>\n",
                            "      <td>b'1'</td>\n",
                            "      <td>b'1'</td>\n",
                            "      <td>b'1'</td>\n",
                            "      <td>b'1'</td>\n",
                            "    </tr>\n",
                            "  </tbody>\n",
                            "</table>\n",
                            "<p>5 rows × 31 columns</p>\n",
                            "</div>"
                        ]
                    },
                    "metadata": {},
                    "execution_count": 5
                }
            ],
            "metadata": {}
        },
        {
            "cell_type": "markdown",
            "source": [
                "## Visualizing few Features"
            ],
            "metadata": {}
        },
        {
            "cell_type": "code",
            "execution_count": 6,
            "source": [
                "#histogram for visulization \r\n",
                "sns.displot(data=df, x=\"Page_Rank\", hue=\"Result\",multiple=\"stack\")"
            ],
            "outputs": [
                {
                    "output_type": "execute_result",
                    "data": {
                        "text/plain": [
                            "<seaborn.axisgrid.FacetGrid at 0x1a22ffaf2b0>"
                        ]
                    },
                    "metadata": {},
                    "execution_count": 6
                },
                {
                    "output_type": "display_data",
                    "data": {
                        "text/plain": [
                            "<Figure size 418x360 with 1 Axes>"
                        ],
                        "image/png": "[encoded data removed]"
                    },
                    "metadata": {
                        "needs_background": "light"
                    }
                }
            ],
            "metadata": {}
        },
        {
            "cell_type": "code",
            "execution_count": 7,
            "source": [
                "sns.displot(data=df, x=\"Abnormal_URL\", hue=\"Result\",multiple=\"stack\")\r\n",
                "#showing that majority of the phising attack url is \"Abnormal\""
            ],
            "outputs": [
                {
                    "output_type": "execute_result",
                    "data": {
                        "text/plain": [
                            "<seaborn.axisgrid.FacetGrid at 0x1a271d1e550>"
                        ]
                    },
                    "metadata": {},
                    "execution_count": 7
                },
                {
                    "output_type": "display_data",
                    "data": {
                        "text/plain": [
                            "<Figure size 418x360 with 1 Axes>"
                        ],
                        "image/png": "[encoded data removed]"
                    },
                    "metadata": {
                        "needs_background": "light"
                    }
                }
            ],
            "metadata": {}
        },
        {
            "cell_type": "markdown",
            "source": [
                "### Comapring Page Rank and Web_traffic with Results"
            ],
            "metadata": {}
        },
        {
            "cell_type": "code",
            "execution_count": 8,
            "source": [
                "sns.jointplot(data=df, x=\"Page_Rank\",y=\"web_traffic\",hue=\"Result\",kind=\"hist\")"
            ],
            "outputs": [
                {
                    "output_type": "execute_result",
                    "data": {
                        "text/plain": [
                            "<seaborn.axisgrid.JointGrid at 0x1a271c22f40>"
                        ]
                    },
                    "metadata": {},
                    "execution_count": 8
                },
                {
                    "output_type": "display_data",
                    "data": {
                        "text/plain": [
                            "<Figure size 432x432 with 3 Axes>"
                        ],
                        "image/png": "[encoded data removed]"
                    },
                    "metadata": {
                        "needs_background": "light"
                    }
                }
            ],
            "metadata": {}
        },
        {
            "cell_type": "markdown",
            "source": [
                "## Slicing the DataFrame"
            ],
            "metadata": {}
        },
        {
            "cell_type": "code",
            "execution_count": 9,
            "source": [
                "x = df.iloc[:,:-1].values.astype('int')   \r\n",
                "y = df.iloc[:,-1:].values.astype('int')"
            ],
            "outputs": [],
            "metadata": {}
        },
        {
            "cell_type": "markdown",
            "source": [
                "### Train, Test Splitting "
            ],
            "metadata": {}
        },
        {
            "cell_type": "code",
            "execution_count": 10,
            "source": [
                "x_train,x_test,y_train,y_test = train_test_split(x,y,test_size=.20,random_state=79,)"
            ],
            "outputs": [],
            "metadata": {}
        },
        {
            "cell_type": "markdown",
            "source": [
                "## Training the Model 1\r\n",
                "### Model 1 is build using existing Features (30) \r\n",
                "\r\n"
            ],
            "metadata": {}
        },
        {
            "cell_type": "code",
            "execution_count": 11,
            "source": [
                "model = dtc()\r\n",
                "model.fit(x_train,y_train)"
            ],
            "outputs": [
                {
                    "output_type": "execute_result",
                    "data": {
                        "text/plain": [
                            "DecisionTreeClassifier()"
                        ]
                    },
                    "metadata": {},
                    "execution_count": 11
                }
            ],
            "metadata": {}
        },
        {
            "cell_type": "markdown",
            "source": [
                "## Testing the Model\r\n",
                "### Perfomance shows the Accuracy of 96%"
            ],
            "metadata": {}
        },
        {
            "cell_type": "code",
            "execution_count": 12,
            "source": [
                "pred = model.predict(x_test)\r\n",
                "print(classification_report(y_test,pred))"
            ],
            "outputs": [
                {
                    "output_type": "stream",
                    "name": "stdout",
                    "text": [
                        "              precision    recall  f1-score   support\n",
                        "\n",
                        "          -1       0.96      0.96      0.96       982\n",
                        "           1       0.97      0.97      0.97      1229\n",
                        "\n",
                        "    accuracy                           0.96      2211\n",
                        "   macro avg       0.96      0.96      0.96      2211\n",
                        "weighted avg       0.96      0.96      0.96      2211\n",
                        "\n"
                    ]
                }
            ],
            "metadata": {}
        },
        {
            "cell_type": "markdown",
            "source": [
                "## Label Encoding \r\n",
                "### Chi2 requires non-negative values to perform feature selection. So, Ordinal encoder and Label Encoders are used for converstion."
            ],
            "metadata": {}
        },
        {
            "cell_type": "code",
            "execution_count": 55,
            "source": [
                "#encoding the data\r\n",
                "xx = df.iloc[:,:-1].values.astype('int')\r\n",
                "yy = df.iloc[:,-1:].values.astype('int')\r\n",
                "oe = OrdinalEncoder()\r\n",
                "le = LabelEncoder()\r\n",
                "xx = oe.fit_transform(xx)   # Ordinal data\r\n",
                "yy = le.fit_transform(yy)   # Label\r\n",
                "xx_train,xx_test,yy_train,yy_test = train_test_split(xx,yy,test_size=0.2, random_state=9)"
            ],
            "outputs": [
                {
                    "output_type": "stream",
                    "name": "stderr",
                    "text": [
                        "C:\\Users\\HM-PC\\AppData\\Local\\Programs\\Python\\Python39\\lib\\site-packages\\sklearn\\utils\\validation.py:63: DataConversionWarning: A column-vector y was passed when a 1d array was expected. Please change the shape of y to (n_samples, ), for example using ravel().\n",
                        "  return f(*args, **kwargs)\n"
                    ]
                }
            ],
            "metadata": {}
        },
        {
            "cell_type": "code",
            "execution_count": 78,
            "source": [
                "# feature selection function\r\n",
                "def feature_selection(scoreFunc,xx_train,xx_test,yy_train):\r\n",
                "    print(len(xx_train),len(xx_test),len(yy_train))\r\n",
                "    skb = SelectKBest(score_func=scoreFunc, k=\"all\")\r\n",
                "    skb.fit(xx_train,yy_train)\r\n",
                "    xtrainfs = skb.transform(xx_train)\r\n",
                "    xtestfs = skb.transform(xx_test)\r\n",
                "    score_map = dict()\r\n",
                "    for i in range(len(skb.scores_)):\r\n",
                "        score_map[i] = skb.scores_[i]\r\n",
                "    return score_map\r\n",
                "\r\n",
                "# calling feature selection\r\n",
                "chi_score_map = feature_selection(chi2, xx_train, xx_test, yy_train)\r\n",
                "mic_score_map = feature_selection(mutual_info_classif,x_train, x_test, y_train)\r\n",
                "chi_score = []\r\n",
                "mic_score = []\r\n",
                "\r\n",
                "#Storing score\r\n",
                "for i in range(len(chi_score_map)):\r\n",
                "    chi_score.append(chi_score_map[i])\r\n",
                "    mic_score.append(mic_score_map[i])\r\n",
                "\r\n",
                "# Attribute List for Both Selections\r\n",
                "chi_l = []\r\n",
                "mic_l = []\r\n",
                "#Min-Max Normalization Attributes \r\n",
                "ma = max(chi_score)\r\n",
                "mi = min(chi_score)\r\n",
                "den = ma-mi\r\n",
                "#Selecting Features based on scores \r\n",
                "for i in range(len(chi_score)):\r\n",
                "    k = (((chi_score[i])-mi)/den)*100  #Normalization of chi2\r\n",
                "    if(0.03 <= k):\r\n",
                "        chi_l.append(i)\r\n",
                "    if(0.3 <= mic_score[i]*100):\r\n",
                "        mic_l.append(i)"
            ],
            "outputs": [
                {
                    "output_type": "stream",
                    "name": "stdout",
                    "text": [
                        "8844 2211 8844\n",
                        "8844 2211 8844\n"
                    ]
                },
                {
                    "output_type": "stream",
                    "name": "stderr",
                    "text": [
                        "C:\\Users\\HM-PC\\AppData\\Local\\Programs\\Python\\Python39\\lib\\site-packages\\sklearn\\utils\\validation.py:63: DataConversionWarning: A column-vector y was passed when a 1d array was expected. Please change the shape of y to (n_samples, ), for example using ravel().\n",
                        "  return f(*args, **kwargs)\n"
                    ]
                }
            ],
            "metadata": {}
        },
        {
            "cell_type": "code",
            "execution_count": 79,
            "source": [
                "def feature_names(method):\r\n",
                "    for i in (method):\r\n",
                "        print(df.columns[int(i)], end=\" ;  \")"
            ],
            "outputs": [],
            "metadata": {}
        },
        {
            "cell_type": "code",
            "execution_count": 80,
            "source": [
                "xxx = df.iloc[:,[chi_l[i] for i in range(len(chi_l))]].values.astype('int')\r\n",
                "yyy = df.iloc[:,-1:].values.astype('int')\r\n",
                "print(len(xxx[0]))\r\n",
                "model2 = dtc(max_depth=21)\r\n",
                "xxx_train,xxx_test,yyy_train,yyy_test = train_test_split(xxx,yyy,test_size=.20) \r\n",
                "model2.fit(xxx_train,yyy_train)\r\n",
                "pred = model2.predict(xxx_test)\r\n",
                "print(classification_report(yyy_test,pred))\r\n",
                "model2.get_depth()  #depth of the tree"
            ],
            "outputs": [
                {
                    "output_type": "stream",
                    "name": "stdout",
                    "text": [
                        "25\n",
                        "              precision    recall  f1-score   support\n",
                        "\n",
                        "          -1       0.95      0.97      0.96       969\n",
                        "           1       0.97      0.96      0.97      1242\n",
                        "\n",
                        "    accuracy                           0.97      2211\n",
                        "   macro avg       0.96      0.97      0.96      2211\n",
                        "weighted avg       0.97      0.97      0.97      2211\n",
                        "\n"
                    ]
                },
                {
                    "output_type": "execute_result",
                    "data": {
                        "text/plain": [
                            "21"
                        ]
                    },
                    "metadata": {},
                    "execution_count": 80
                }
            ],
            "metadata": {}
        },
        {
            "cell_type": "markdown",
            "source": [
                "## From Chi2 feature selection top 25 features are selected and results from Model 2 is significantly working parallel with the Model 1. \r\n"
            ],
            "metadata": {}
        },
        {
            "cell_type": "markdown",
            "source": [
                "### Chi2 Selected features are:"
            ],
            "metadata": {}
        },
        {
            "cell_type": "code",
            "execution_count": 81,
            "source": [
                "sns.barplot(x=[i for i in range(len(chi_score))], y=chi_score)"
            ],
            "outputs": [
                {
                    "output_type": "execute_result",
                    "data": {
                        "text/plain": [
                            "<AxesSubplot:>"
                        ]
                    },
                    "metadata": {},
                    "execution_count": 81
                },
                {
                    "output_type": "display_data",
                    "data": {
                        "text/plain": [
                            "<Figure size 432x288 with 1 Axes>"
                        ],
                        "image/png": "[encoded data removed]"
                    },
                    "metadata": {
                        "needs_background": "light"
                    }
                }
            ],
            "metadata": {}
        },
        {
            "cell_type": "code",
            "execution_count": 82,
            "source": [
                "feature_names(chi_l)"
            ],
            "outputs": [
                {
                    "output_type": "stream",
                    "name": "stdout",
                    "text": [
                        "having_IP_Address ;  URL_Length ;  Shortining_Service ;  having_At_Symbol ;  double_slash_redirecting ;  Prefix_Suffix ;  having_Sub_Domain ;  SSLfinal_State ;  Domain_registeration_length ;  port ;  HTTPS_token ;  Request_URL ;  URL_of_Anchor ;  Links_in_tags ;  SFH ;  Abnormal_URL ;  Redirect ;  on_mouseover ;  age_of_domain ;  DNSRecord ;  web_traffic ;  Page_Rank ;  Google_Index ;  Links_pointing_to_page ;  Statistical_report ;  "
                    ]
                }
            ],
            "metadata": {}
        },
        {
            "cell_type": "markdown",
            "source": [
                "# Model 3\r\n",
                "## Feature selected using Mutal_info_Classif"
            ],
            "metadata": {}
        },
        {
            "cell_type": "code",
            "execution_count": 83,
            "source": [
                "xxx = df.iloc[:,[mic_l[i] for i in range(len(mic_l))]].values.astype('int')\r\n",
                "yyy = df.iloc[:,-1:].values.astype('int')\r\n",
                "print(len(xxx[0]))\r\n",
                "model3 = dtc()\r\n",
                "xxx_train,xxx_test,yyy_train,yyy_test = train_test_split(xxx,yyy,test_size=.20) \r\n",
                "model3.fit(xxx_train,yyy_train)\r\n",
                "pred = model3.predict(xxx_test)\r\n",
                "print(classification_report(yyy_test,pred))\r\n",
                "print(\"Maximum depth of DTC(Model 3) ==> \",model3.get_depth())\r\n"
            ],
            "outputs": [
                {
                    "output_type": "stream",
                    "name": "stdout",
                    "text": [
                        "18\n",
                        "              precision    recall  f1-score   support\n",
                        "\n",
                        "          -1       0.96      0.94      0.95       996\n",
                        "           1       0.96      0.97      0.96      1215\n",
                        "\n",
                        "    accuracy                           0.96      2211\n",
                        "   macro avg       0.96      0.96      0.96      2211\n",
                        "weighted avg       0.96      0.96      0.96      2211\n",
                        "\n",
                        "Maximum depth of DTC(Model 3) ==>  21\n"
                    ]
                }
            ],
            "metadata": {}
        },
        {
            "cell_type": "markdown",
            "source": [
                "## Top 18 features are selected From Mutual_info_classif feature selection method and results from Model 3 is significantly working parallel with the Model 1 with lesser number of feature. \r\n",
                "### Feature selected are:"
            ],
            "metadata": {}
        },
        {
            "cell_type": "code",
            "execution_count": 84,
            "source": [
                "sns.barplot(x=[i for i in range(len(mic_score))], y=mic_score)"
            ],
            "outputs": [
                {
                    "output_type": "execute_result",
                    "data": {
                        "text/plain": [
                            "<AxesSubplot:>"
                        ]
                    },
                    "metadata": {},
                    "execution_count": 84
                },
                {
                    "output_type": "display_data",
                    "data": {
                        "text/plain": [
                            "<Figure size 432x288 with 1 Axes>"
                        ],
                        "image/png": "[encoded data removed]"
                    },
                    "metadata": {
                        "needs_background": "light"
                    }
                }
            ],
            "metadata": {}
        },
        {
            "cell_type": "code",
            "execution_count": 85,
            "source": [
                "feature_names(mic_l,)"
            ],
            "outputs": [
                {
                    "output_type": "stream",
                    "name": "stdout",
                    "text": [
                        "URL_Length ;  having_At_Symbol ;  Prefix_Suffix ;  having_Sub_Domain ;  SSLfinal_State ;  Domain_registeration_length ;  Favicon ;  port ;  Request_URL ;  URL_of_Anchor ;  Links_in_tags ;  SFH ;  Submitting_to_email ;  age_of_domain ;  DNSRecord ;  web_traffic ;  Page_Rank ;  Google_Index ;  "
                    ]
                }
            ],
            "metadata": {}
        },
        {
            "cell_type": "markdown",
            "source": [
                "\r\n",
                "\r\n",
                "\r\n",
                "# Conclusion\r\n",
                "\r\n",
                "### Model3 built using 18 from Mutual_info_classif Workes parallel with Model1 With 30 Features. And Model 2 Build using 25 Feature from Chi2 test Works slightly higher than Model1."
            ],
            "metadata": {}
        },
        {
            "cell_type": "markdown",
            "source": [],
            "metadata": {}
        }
    ],
    "metadata": {
        "orig_nbformat": 4,
        "language_info": {
            "name": "python"
        }
    },
    "nbformat": 4,
    "nbformat_minor": 2
}
